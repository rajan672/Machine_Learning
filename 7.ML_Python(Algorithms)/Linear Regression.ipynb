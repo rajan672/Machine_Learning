{
 "cells": [
  {
   "cell_type": "code",
   "execution_count": 1,
   "id": "06f3968a",
   "metadata": {},
   "outputs": [],
   "source": [
    "import numpy as np\n",
    "import pandas as pd\n",
    "import matplotlib.pyplot as plt\n",
    "from sklearn.linear_model import LinearRegression"
   ]
  },
  {
   "cell_type": "code",
   "execution_count": 2,
   "id": "2a617c0b",
   "metadata": {},
   "outputs": [
    {
     "name": "stdout",
     "output_type": "stream",
     "text": [
      "[[0.77132064]\n",
      " [0.02075195]\n",
      " [0.63364823]\n",
      " [0.74880388]\n",
      " [0.49850701]\n",
      " [0.22479665]\n",
      " [0.19806286]\n",
      " [0.76053071]\n",
      " [0.16911084]\n",
      " [0.08833981]\n",
      " [0.68535982]\n",
      " [0.95339335]\n",
      " [0.00394827]\n",
      " [0.51219226]\n",
      " [0.81262096]\n",
      " [0.61252607]\n",
      " [0.72175532]\n",
      " [0.29187607]\n",
      " [0.91777412]\n",
      " [0.71457578]\n",
      " [0.54254437]\n",
      " [0.14217005]\n",
      " [0.37334076]\n",
      " [0.67413362]\n",
      " [0.44183317]\n",
      " [0.43401399]\n",
      " [0.61776698]\n",
      " [0.51313824]\n",
      " [0.65039718]\n",
      " [0.60103895]\n",
      " [0.8052232 ]\n",
      " [0.52164715]\n",
      " [0.90864888]\n",
      " [0.31923609]\n",
      " [0.09045935]\n",
      " [0.30070006]\n",
      " [0.11398436]\n",
      " [0.82868133]\n",
      " [0.04689632]\n",
      " [0.62628715]\n",
      " [0.54758616]\n",
      " [0.819287  ]\n",
      " [0.19894754]\n",
      " [0.8568503 ]\n",
      " [0.35165264]\n",
      " [0.75464769]\n",
      " [0.29596171]\n",
      " [0.88393648]\n",
      " [0.32551164]\n",
      " [0.1650159 ]] [[5.70649117]\n",
      " [3.15571622]\n",
      " [5.72205036]\n",
      " [5.39756367]\n",
      " [4.87963549]\n",
      " [4.61865065]\n",
      " [4.58181407]\n",
      " [5.73789668]\n",
      " [4.33345535]\n",
      " [3.51639358]\n",
      " [5.6534511 ]\n",
      " [6.7630118 ]\n",
      " [3.54640275]\n",
      " [5.12677815]\n",
      " [5.47714465]\n",
      " [5.19475996]\n",
      " [5.24487904]\n",
      " [4.18108812]\n",
      " [6.08404168]\n",
      " [5.91755765]\n",
      " [4.66759231]\n",
      " [3.85600232]\n",
      " [4.43494915]\n",
      " [5.65889199]\n",
      " [4.67184667]\n",
      " [4.34513934]\n",
      " [5.73321611]\n",
      " [5.30265531]\n",
      " [5.82928819]\n",
      " [5.220626  ]\n",
      " [6.02124715]\n",
      " [5.07840808]\n",
      " [6.32378329]\n",
      " [4.21992393]\n",
      " [3.57224936]\n",
      " [3.92749995]\n",
      " [3.64501565]\n",
      " [5.72811985]\n",
      " [3.69826715]\n",
      " [5.44436846]\n",
      " [5.11789072]\n",
      " [5.75065896]\n",
      " [3.66109368]\n",
      " [6.54937005]\n",
      " [4.39466576]\n",
      " [5.75899171]\n",
      " [4.86496585]\n",
      " [6.09258326]\n",
      " [4.29480772]\n",
      " [4.01484468]]\n"
     ]
    }
   ],
   "source": [
    "np.random.seed(10)\n",
    "X = np.random.rand(50,1)\n",
    "Y = 3+3*X+np.random.rand(50,1)\n",
    "print(X ,Y)"
   ]
  },
  {
   "cell_type": "code",
   "execution_count": 12,
   "id": "58008b2c",
   "metadata": {},
   "outputs": [
    {
     "data": {
      "image/png": "[encoded data removed]",
      "text/plain": [
       "<Figure size 432x288 with 1 Axes>"
      ]
     },
     "metadata": {
      "needs_background": "light"
     },
     "output_type": "display_data"
    }
   ],
   "source": [
    "#Scatter Plot\n",
    "plt.scatter(X,Y,s=15)\n",
    "plt.xlabel('X')\n",
    "plt.ylabel('Y')\n",
    "plt.show()"
   ]
  },
  {
   "cell_type": "code",
   "execution_count": 14,
   "id": "218d66ef",
   "metadata": {},
   "outputs": [],
   "source": [
    "lr = LinearRegression()"
   ]
  },
  {
   "cell_type": "code",
   "execution_count": 15,
   "id": "b85ecb97",
   "metadata": {},
   "outputs": [
    {
     "data": {
      "text/plain": [
       "LinearRegression()"
      ]
     },
     "execution_count": 15,
     "metadata": {},
     "output_type": "execute_result"
    }
   ],
   "source": [
    "lr.fit(X,Y)"
   ]
  },
  {
   "cell_type": "code",
   "execution_count": 17,
   "id": "4f48c671",
   "metadata": {},
   "outputs": [
    {
     "data": {
      "text/plain": [
       "array([[5.81254154],\n",
       "       [3.4780875 ],\n",
       "       [5.38434634],\n",
       "       [5.74250885],\n",
       "       [4.96402376],\n",
       "       [4.11271691],\n",
       "       [4.02956825],\n",
       "       [5.77898219],\n",
       "       [3.93952029],\n",
       "       [3.68830246],\n",
       "       [5.54518214],\n",
       "       [6.37883262],\n",
       "       [3.4258239 ],\n",
       "       [5.00658827],\n",
       "       [5.94099573],\n",
       "       [5.31865118],\n",
       "       [5.65838113],\n",
       "       [4.32135048],\n",
       "       [6.26804804],\n",
       "       [5.63605101],\n",
       "       [5.10099081],\n",
       "       [3.85572778],\n",
       "       [4.5747258 ],\n",
       "       [5.51026588],\n",
       "       [4.78775413],\n",
       "       [4.76343454],\n",
       "       [5.33495171],\n",
       "       [5.0095305 ],\n",
       "       [5.43643971],\n",
       "       [5.28292342],\n",
       "       [5.91798686],\n",
       "       [5.03599531],\n",
       "       [6.23966628],\n",
       "       [4.40644691],\n",
       "       [3.69489474],\n",
       "       [4.34879527],\n",
       "       [3.76806334],\n",
       "       [5.99094743],\n",
       "       [3.55940295],\n",
       "       [5.36145155],\n",
       "       [5.11667202],\n",
       "       [5.96172875],\n",
       "       [4.03231981],\n",
       "       [6.07855991],\n",
       "       [4.50727039],\n",
       "       [5.76068454],\n",
       "       [4.33405783],\n",
       "       [6.16280461],\n",
       "       [4.42596541],\n",
       "       [3.92678402]])"
      ]
     },
     "execution_count": 17,
     "metadata": {},
     "output_type": "execute_result"
    }
   ],
   "source": [
    "pred = lr.predict(X)\n",
    "pred"
   ]
  },
  {
   "cell_type": "code",
   "execution_count": 19,
   "id": "f8a64672",
   "metadata": {},
   "outputs": [
    {
     "data": {
      "text/plain": [
       "[<matplotlib.lines.Line2D at 0x1c21564c4c0>]"
      ]
     },
     "execution_count": 19,
     "metadata": {},
     "output_type": "execute_result"
    },
    {
     "data": {
      "image/png": "[encoded data removed]",
      "text/plain": [
       "<Figure size 432x288 with 1 Axes>"
      ]
     },
     "metadata": {
      "needs_background": "light"
     },
     "output_type": "display_data"
    }
   ],
   "source": [
    "from sklearn.metrics import r2_score,mean_squared_error\n",
    "mse = mean_squared_error(Y,pred)\n",
    "r2 = r2_score(Y,pred)\n",
    "plt.plot(X,pred,color='Black' , marker='o')"
   ]
  },
  {
   "cell_type": "code",
   "execution_count": 20,
   "id": "f4e26c56",
   "metadata": {},
   "outputs": [
    {
     "name": "stdout",
     "output_type": "stream",
     "text": [
      "MSR= 0.0746314112910216\n",
      "R2= 0.9068822972556425\n",
      "Y_intercept= [3.41354381]\n",
      "slope= [[3.11024701]]\n"
     ]
    }
   ],
   "source": [
    "print(\"MSR=\", mse)\n",
    "print(\"R2=\", r2)\n",
    "print(\"Y_intercept=\", lr.intercept_)\n",
    "print(\"slope=\", lr.coef_)"
   ]
  },
  {
   "cell_type": "code",
   "execution_count": 21,
   "id": "58750a7f",
   "metadata": {},
   "outputs": [
    {
     "data": {
      "text/plain": [
       "0.9068822972556425"
      ]
     },
     "execution_count": 21,
     "metadata": {},
     "output_type": "execute_result"
    }
   ],
   "source": [
    "lr.score(X,Y)"
   ]
  },
  {
   "cell_type": "code",
   "execution_count": null,
   "id": "e5029f29",
   "metadata": {},
   "outputs": [],
   "source": []
  }
 ],
 "metadata": {
  "kernelspec": {
   "display_name": "Python 3 (ipykernel)",
   "language": "python",
   "name": "python3"
  },
  "language_info": {
   "codemirror_mode": {
    "name": "ipython",
    "version": 3
   },
   "file_extension": ".py",
   "mimetype": "text/x-python",
   "name": "python",
   "nbconvert_exporter": "python",
   "pygments_lexer": "ipython3",
   "version": "3.9.12"
  }
 },
 "nbformat": 4,
 "nbformat_minor": 5
}
