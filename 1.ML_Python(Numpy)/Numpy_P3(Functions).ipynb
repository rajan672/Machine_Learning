{
 "cells": [
  {
   "cell_type": "markdown",
   "id": "b9933704",
   "metadata": {},
   "source": [
    "# NUMPY Functions"
   ]
  },
  {
   "cell_type": "code",
   "execution_count": 1,
   "id": "20293992",
   "metadata": {},
   "outputs": [],
   "source": [
    "import numpy as np"
   ]
  },
  {
   "cell_type": "markdown",
   "id": "8c88dd98",
   "metadata": {},
   "source": [
    "# arange() Function"
   ]
  },
  {
   "cell_type": "code",
   "execution_count": 2,
   "id": "a1b811ec",
   "metadata": {},
   "outputs": [
    {
     "name": "stdout",
     "output_type": "stream",
     "text": [
      "[ 1  2  3  4  5  6  7  8  9 10 11 12]\n"
     ]
    }
   ],
   "source": [
    "#  np.arange(start, End , Steps)\n",
    "arr1 = np.arange(1,13)\n",
    "print (arr1)"
   ]
  },
  {
   "cell_type": "markdown",
   "id": "20afa902",
   "metadata": {},
   "source": [
    "# linspace() Function"
   ]
  },
  {
   "cell_type": "code",
   "execution_count": 3,
   "id": "a9469d3b",
   "metadata": {},
   "outputs": [
    {
     "name": "stdout",
     "output_type": "stream",
     "text": [
      "[2.  2.5 3.  3.5 4.  4.5 5. ]\n"
     ]
    }
   ],
   "source": [
    "#The numpy.linspace() function returns number spaces evenly w.r.t interval. Similar to numpy.arange() function but instead of step it uses sample number. \n",
    "#numpy.linspace(start,stop,num)\n",
    "arr2 = np.linspace(2,5,7)\n",
    "print (arr2)"
   ]
  },
  {
   "cell_type": "markdown",
   "id": "d9383c95",
   "metadata": {},
   "source": [
    "# reshape() Function"
   ]
  },
  {
   "cell_type": "code",
   "execution_count": 4,
   "id": "df58b5dd",
   "metadata": {},
   "outputs": [
    {
     "name": "stdout",
     "output_type": "stream",
     "text": [
      "[[ 1  2  3  4  5  6]\n",
      " [ 7  8  9 10 11 12]]\n",
      "[[[ 1  2]\n",
      "  [ 3  4]\n",
      "  [ 5  6]]\n",
      "\n",
      " [[ 7  8]\n",
      "  [ 9 10]\n",
      "  [11 12]]]\n"
     ]
    }
   ],
   "source": [
    "#The numpy.reshape() function shapes an array without changing the data of the array.\n",
    "#Syntax:  numpy.reshape(array, shape, order = 'C')\n",
    "\n",
    "#array reshaped with 2 rows and 6 columns :\n",
    "arr3 = arr1.reshape(2,6)\n",
    "print(arr3)\n",
    "\n",
    "# Constructs 3D array\n",
    "arr4 = arr1.reshape(2,3,2)\n",
    "print(arr4)"
   ]
  },
  {
   "cell_type": "code",
   "execution_count": 5,
   "id": "7c14e864",
   "metadata": {},
   "outputs": [
    {
     "name": "stdout",
     "output_type": "stream",
     "text": [
      "[[ 1  2  3  4]\n",
      " [ 5  6  7  8]\n",
      " [ 9 10 11 12]]\n"
     ]
    }
   ],
   "source": [
    "arr5 = np.arange(1,13).reshape(3,4)\n",
    "print(arr5)"
   ]
  },
  {
   "cell_type": "markdown",
   "id": "e2aa58a9",
   "metadata": {},
   "source": [
    "# ravel() Function "
   ]
  },
  {
   "cell_type": "code",
   "execution_count": 6,
   "id": "912be1e7",
   "metadata": {},
   "outputs": [
    {
     "data": {
      "text/plain": [
       "array([ 1,  2,  3,  4,  5,  6,  7,  8,  9, 10, 11, 12])"
      ]
     },
     "execution_count": 6,
     "metadata": {},
     "output_type": "execute_result"
    }
   ],
   "source": [
    "#The numpy.ravel() functions returns contiguous flattened array(1D array with all the input-array elements and with the same type as it). A copy is made only if needed. \n",
    "#Syntax :  numpy.ravel(array, order = 'C')\n",
    "\n",
    "arr5.ravel()"
   ]
  },
  {
   "cell_type": "markdown",
   "id": "e2e6b2b7",
   "metadata": {},
   "source": [
    "# transpose() Function"
   ]
  },
  {
   "cell_type": "code",
   "execution_count": 8,
   "id": "9bb15202",
   "metadata": {},
   "outputs": [
    {
     "data": {
      "text/plain": [
       "array([[ 1,  5,  9],\n",
       "       [ 2,  6, 10],\n",
       "       [ 3,  7, 11],\n",
       "       [ 4,  8, 12]])"
      ]
     },
     "execution_count": 8,
     "metadata": {},
     "output_type": "execute_result"
    }
   ],
   "source": [
    "#The numpy.transpose() function changes the row elements into column elements and the column elements into row elements. The output of this function is a modified array of the original one.\n",
    "#Syntax : numpy.transpose(arr, axis=None) \n",
    "#OR Syntax : numpy.T\n",
    "\n",
    "arr5.transpose()"
   ]
  },
  {
   "cell_type": "code",
   "execution_count": null,
   "id": "cfa4ce96",
   "metadata": {},
   "outputs": [],
   "source": []
  }
 ],
 "metadata": {
  "kernelspec": {
   "display_name": "Python 3 (ipykernel)",
   "language": "python",
   "name": "python3"
  },
  "language_info": {
   "codemirror_mode": {
    "name": "ipython",
    "version": 3
   },
   "file_extension": ".py",
   "mimetype": "text/x-python",
   "name": "python",
   "nbconvert_exporter": "python",
   "pygments_lexer": "ipython3",
   "version": "3.9.12"
  }
 },
 "nbformat": 4,
 "nbformat_minor": 5
}
